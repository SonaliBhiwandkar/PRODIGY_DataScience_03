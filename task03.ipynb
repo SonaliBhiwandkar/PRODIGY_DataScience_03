{
 "cells": [
  {
   "cell_type": "markdown",
   "metadata": {},
   "source": [
    "Build a decision tree classifier to predict whether a customer will purchase a product or service based on their demographic and behavioral data. Use a dataset such as the Bank Marketing dataset from the UCI Machine Learning Repository."
   ]
  },
  {
   "cell_type": "code",
   "execution_count": 28,
   "metadata": {},
   "outputs": [],
   "source": [
    "import pandas as pd\n",
    "from sklearn.model_selection import train_test_split\n",
    "from sklearn.tree import DecisionTreeClassifier\n",
    "from sklearn.metrics import accuracy_score, classification_report\n",
    "from sklearn.preprocessing import LabelEncoder"
   ]
  },
  {
   "cell_type": "markdown",
   "metadata": {},
   "source": [
    "# Load the dataset"
   ]
  },
  {
   "cell_type": "code",
   "execution_count": 29,
   "metadata": {},
   "outputs": [],
   "source": [
    "data = pd.read_csv(\"bank.csv\", delimiter=\";\")"
   ]
  },
  {
   "cell_type": "code",
   "execution_count": 30,
   "metadata": {},
   "outputs": [],
   "source": [
    "data.drop(columns=['day', 'month', 'duration'], inplace=True)\n",
    "\n",
    "le = LabelEncoder()\n",
    "data['job'] = le.fit_transform(data['job'])\n",
    "data['marital'] = le.fit_transform(data['marital'])\n",
    "data['education'] = le.fit_transform(data['education'])\n",
    "data['default'] = le.fit_transform(data['default'])\n",
    "data['housing'] = le.fit_transform(data['housing'])\n",
    "data['loan'] = le.fit_transform(data['loan'])\n",
    "data['contact'] = le.fit_transform(data['contact'])\n",
    "data['poutcome'] = le.fit_transform(data['poutcome'])\n",
    "data['y'] = le.fit_transform(data['y'])\n",
    "\n",
    "X = data.drop(columns=['y'])\n",
    "y = data['y']\n",
    "\n",
    "X_train, X_test, y_train, y_test = train_test_split(X, y, test_size=0.2, random_state=42)\n",
    "\n",
    "clf = DecisionTreeClassifier(random_state=42)\n",
    "clf.fit(X_train, y_train)\n",
    "\n",
    "y_pred = clf.predict(X_test)"
   ]
  },
  {
   "cell_type": "markdown",
   "metadata": {},
   "source": [
    "# Evaluate the model"
   ]
  },
  {
   "cell_type": "code",
   "execution_count": 31,
   "metadata": {},
   "outputs": [
    {
     "name": "stdout",
     "output_type": "stream",
     "text": [
      "Accuracy: 0.8033149171270718\n",
      "Classification Report:\n",
      "              precision    recall  f1-score   support\n",
      "\n",
      "           0       0.90      0.88      0.89       807\n",
      "           1       0.16      0.18      0.17        98\n",
      "\n",
      "    accuracy                           0.80       905\n",
      "   macro avg       0.53      0.53      0.53       905\n",
      "weighted avg       0.82      0.80      0.81       905\n",
      "\n"
     ]
    }
   ],
   "source": [
    "accuracy = accuracy_score(y_test, y_pred)\n",
    "print(\"Accuracy:\", accuracy)\n",
    "print(\"Classification Report:\")\n",
    "print(classification_report(y_test, y_pred))"
   ]
  }
 ],
 "metadata": {
  "language_info": {
   "name": "python"
  }
 },
 "nbformat": 4,
 "nbformat_minor": 2
}
